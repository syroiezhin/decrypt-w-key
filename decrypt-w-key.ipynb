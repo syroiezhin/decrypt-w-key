{
 "cells": [
  {
   "cell_type": "markdown",
   "metadata": {},
   "source": [
    "        __  ______ _       ________  __        _ \n",
    "       / / / / __ \\ |     / / __ \\ \\/ /  _    | |\n",
    "      / /_/ / / / / | /| / / / / /\\  /  (_)   / /\n",
    "     / __  / /_/ /| |/ |/ / /_/ / / /  _     / / \n",
    "    /_/ /_/\\____/ |__/|__/_____/ /_/  (_)  _/_/  \n",
    "                                          /_/    \n",
    "                                                      \n",
    "               5168 7450 1701 5535     \n",
    "\n",
    "                 author = Valerij Syroiezhin\n",
    "               telegram = @NEU3RON\n",
    "                  email = v.syroiezhin@gmail.com\n",
    "                    url = https://github.com/syroiezhin"
   ]
  },
  {
   "cell_type": "markdown",
   "metadata": {},
   "source": [
    "### ⚠️ <span style=\"color:DeepPink\">If for some reason U are interested in this project:</span>\n",
    "### <span style=\"color:Coral\">I ask U to respect my copyrights, respect my work,</span>\n",
    "### <span style=\"color:Coral\">and don't steal other people's work, and also don't appropriate other people's merits!</span>\n",
    "### <span style=\"color:Goldenrod\">If U need to use this resource in UR work, please indicate,</span>\n",
    "### <span style=\"color:Goldenrod\">citing the source, and also let me know that my material was useful to U.</span>\n",
    "\n",
    "## ❗️❗️❗️<span style=\"color:FireBrick\">APPRECIATE OTHER PEOPLE'S INVESTMENT IN UR DEVELOPMENT</span>❗️❗️❗️"
   ]
  },
  {
   "cell_type": "markdown",
   "metadata": {},
   "source": [
    "#### I implement the output of all possible permutations of characters:"
   ]
  },
  {
   "cell_type": "code",
   "execution_count": 111,
   "metadata": {},
   "outputs": [
    {
     "name": "stdout",
     "output_type": "stream",
     "text": [
      "24 permutation combinations 4 characters\n"
     ]
    }
   ],
   "source": [
    "def link(): return '4321'\n",
    "def depth(l=link()):  return len(l)\n",
    "def fac(n): return 1 if n == 0 else fac(n-1) * n\n",
    "if __name__ == \"__main__\": print( f'{fac(depth())} permutation combinations {depth()} characters' )"
   ]
  },
  {
   "cell_type": "code",
   "execution_count": 112,
   "metadata": {},
   "outputs": [
    {
     "name": "stdout",
     "output_type": "stream",
     "text": [
      "4321 4312 4231 4213 4132 4123     3421 3412 3241 3214 3142 3124     2431 2413 2341 2314 2143 2134     1432 1423 1342 1324 1243 1234     "
     ]
    }
   ],
   "source": [
    "def limits(d=depth()): return range(d)\n",
    "def filter(fill=[]): return (L := [ L for i in limits() if (L:=link()[i]) not in fill ])[ int(key*(D := depth(L))/fac(D))%D ]\n",
    "def token(ARRAY): [ ARRAY.append(filter(ARRAY)) for _ in limits() ] ; return ARRAY\n",
    "if __name__ == \"__main__\":\n",
    "    for key in limits(F:=fac(D:=depth())): print ( ''.join( token([]) ) , end=\"     \" if (key+1)%int(F/D)==0 and key!=0 else \" \" )"
   ]
  },
  {
   "cell_type": "code",
   "execution_count": 113,
   "metadata": {},
   "outputs": [
    {
     "name": "stdout",
     "output_type": "stream",
     "text": [
      "After applying 🔑 16 we get this 2143 from this 4321\n"
     ]
    }
   ],
   "source": [
    "def key(): return 16                                                                          # \\/ #\n",
    "def filter(fill=[]):   return (L := [ L for i in limits() if (L:=link()[i]) not in fill ])[ int(key()*(D:=depth(L))/fac(D))%D ]\n",
    "def res(array): print( \"After applying 🔑 {} we get this {} from this {}\".format( key(), array, link() ) )\n",
    "if __name__ == \"__main__\": res( ''.join( token([]) ) )"
   ]
  },
  {
   "cell_type": "markdown",
   "metadata": {},
   "source": [
    "#### Now I'll try to implement encryption using prime numbers:"
   ]
  },
  {
   "cell_type": "code",
   "execution_count": 114,
   "metadata": {},
   "outputs": [
    {
     "name": "stdout",
     "output_type": "stream",
     "text": [
      "Encrypt it HELLOWORLDLETSBEFRIENDSANDDOGOOD, get this key: 800D3B5F45710AA568A6CBDD771BAB0C3CFE\n",
      "we decrypt the data with only the key: 800D3B5F45710AA568A6CBDD771BAB0C3CFE, we get the following data: \n",
      "{'L': {'ident': 37, 'score': 4}, 'G': {'ident': 17, 'score': 1}, 'E': {'ident': 11, 'score': 4}, 'S': {'ident': 67, 'score': 2}, 'I': {'ident': 23, 'score': 1}, 'W': {'ident': 83, 'score': 1}, 'R': {'ident': 61, 'score': 2}, 'T': {'ident': 71, 'score': 1}, 'F': {'ident': 13, 'score': 1}, 'A': {'ident': 2, 'score': 1}, 'H': {'ident': 19, 'score': 1}, 'D': {'ident': 7, 'score': 5}, 'O': {'ident': 47, 'score': 5}, 'N': {'ident': 43, 'score': 2}, 'B': {'ident': 3, 'score': 1}}\n"
     ]
    }
   ],
   "source": [
    "from os import popen\n",
    "\n",
    "def terminal(KEY, symbol, v): return popen(f'echo \\'{KEY}{symbol}{v}\\' | bc').read().strip()\n",
    "\n",
    "def prime():\n",
    "    keys = ['A','B','C','D','E','F','G','H','I','J','K','L','M','N','O','P','Q','R','S','T','U','V','W','X','Y','Z']\n",
    "    type = {i:0 for i in set(keys)}\n",
    "    values = [2,3,5,7]\n",
    "    d = 1\n",
    "    while len(values) < len(keys): [ [ (values.append(num) if num not in values and [num%p==0 for p in values].count(True)==0 else None) for num in [(10*d)+1,(10*d)+3,(10*d)+7,(10*d)+9] ] ] ; d+=1\n",
    "    for k,v in zip(keys,values[0:len(keys)]): type[k]+=v\n",
    "    return type\n",
    "\n",
    "def scrambler(content, dict): \n",
    "    KEY = 1\n",
    "    reqDict = {}\n",
    "    for k in content: reqDict[k] = { 'ident':dict[k], 'score':1 if k not in reqDict else reqDict[k]['score']+1 }\n",
    "    for v in list(reqDict.values()): KEY *= v['ident']**v['score']\n",
    "    KEY = hex(KEY)[2:].upper()\n",
    "    return KEY\n",
    "\n",
    "def decoder(dict, KEY):\n",
    "    deKeys = {}\n",
    "    for k,v in dict.items():\n",
    "        while True:\n",
    "            if terminal(KEY, '%', v) == '0':\n",
    "                deKeys[k] = { 'ident':v, 'score':1 if k not in deKeys else deKeys[k]['score']+1 }\n",
    "                KEY = terminal(KEY, '/', v)\n",
    "            if terminal(KEY, '%', v) != '0': break\n",
    "    return deKeys\n",
    "\n",
    "if __name__ == \"__main__\":\n",
    "  \n",
    "    dict = prime()\n",
    "    content = 'HELLOWORLDLETSBEFRIENDSANDDOGOOD'\n",
    "    KEY = scrambler(content, dict)\n",
    "\n",
    "    deKeys = decoder(dict, int(KEY, 16))\n",
    "    print( f'Encrypt it {content}, get this key: {KEY}' )\n",
    "    print( f'we decrypt the data with only the key: {KEY}, we get the following data: \\n{deKeys}' )"
   ]
  },
  {
   "cell_type": "markdown",
   "metadata": {},
   "source": [
    "## 💡 <span style=\"color:Gold\">To get the initial result, we will need to know three passwords: mail | mobile | password</span>"
   ]
  },
  {
   "cell_type": "markdown",
   "metadata": {},
   "source": [
    "# ☞ <span style=\"color:DeepPink\">To be continued...</span>"
   ]
  }
 ],
 "metadata": {
  "kernelspec": {
   "display_name": "Python 3.9.12 ('base')",
   "language": "python",
   "name": "python3"
  },
  "language_info": {
   "codemirror_mode": {
    "name": "ipython",
    "version": 3
   },
   "file_extension": ".py",
   "mimetype": "text/x-python",
   "name": "python",
   "nbconvert_exporter": "python",
   "pygments_lexer": "ipython3",
   "version": "3.9.12"
  },
  "orig_nbformat": 4,
  "vscode": {
   "interpreter": {
    "hash": "5f23284fad75d58360d212629b595dfe6fd02dbd8325e77387b1e5cbaad4e030"
   }
  }
 },
 "nbformat": 4,
 "nbformat_minor": 2
}
