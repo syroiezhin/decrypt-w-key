{
 "cells": [
  {
   "cell_type": "markdown",
   "metadata": {},
   "source": [
    "        __  ______ _       ________  __        _ \n",
    "       / / / / __ \\ |     / / __ \\ \\/ /  _    | |\n",
    "      / /_/ / / / / | /| / / / / /\\  /  (_)   / /\n",
    "     / __  / /_/ /| |/ |/ / /_/ / / /  _     / / \n",
    "    /_/ /_/\\____/ |__/|__/_____/ /_/  (_)  _/_/  \n",
    "                                          /_/    \n",
    "                                                      \n",
    "               5168 7450 1701 5535     \n",
    "\n",
    "                 author = Valerij Syroiezhin\n",
    "               telegram = @NEU3RON\n",
    "                  email = v.syroiezhin@gmail.com\n",
    "                    url = https://github.com/syroiezhin"
   ]
  },
  {
   "cell_type": "markdown",
   "metadata": {},
   "source": [
    "### ⚠️ <span style=\"color:DeepPink\">If for some reason U are interested in this project:</span>\n",
    "### <span style=\"color:Coral\">I ask U to respect my copyrights, respect my work,</span>\n",
    "### <span style=\"color:Coral\">and don't steal other people's work, and also don't appropriate other people's merits!</span>\n",
    "### <span style=\"color:Goldenrod\">If U need to use this resource in UR work, please indicate,</span>\n",
    "### <span style=\"color:Goldenrod\">citing the source, and also let me know that my material was useful to U.</span>\n",
    "\n",
    "## ❗️❗️❗️<span style=\"color:FireBrick\">APPRECIATE OTHER PEOPLE'S INVESTMENT IN UR DEVELOPMENT</span>❗️❗️❗️"
   ]
  },
  {
   "cell_type": "markdown",
   "metadata": {},
   "source": [
    "#### I implement the output of all possible permutations of characters:"
   ]
  },
  {
   "cell_type": "code",
   "execution_count": 287,
   "metadata": {},
   "outputs": [
    {
     "name": "stdout",
     "output_type": "stream",
     "text": [
      "24 permutation combinations 4 characters\n"
     ]
    }
   ],
   "source": [
    "def link(): return '4321'\n",
    "def depth(l=link()): return len(l)\n",
    "def fac(n): return 1 if n == 0 else fac(n-1) * n\n",
    "if __name__ == \"__main__\": print( f'{fac(depth())} permutation combinations {depth()} characters' )"
   ]
  },
  {
   "cell_type": "code",
   "execution_count": 288,
   "metadata": {},
   "outputs": [
    {
     "name": "stdout",
     "output_type": "stream",
     "text": [
      "4321 4312 4231 4213 4132 4123     3421 3412 3241 3214 3142 3124     2431 2413 2341 2314 2143 2134     1432 1423 1342 1324 1243 1234     "
     ]
    }
   ],
   "source": [
    "def limits(d=depth()): return range(d)\n",
    "def filter(fill): return (L := [ L for i in limits() if (L:=link()[i]) not in fill ])[ int(key*(D := depth(L))/fac(D))%D ]\n",
    "def token(): ARRAY=[] ; [ ARRAY.append(filter(ARRAY)) for _ in limits() ] ; return ARRAY\n",
    "if __name__ == \"__main__\":\n",
    "    for key in limits(F:=fac(D:=depth())): print ( ''.join( token() ) , end=\"     \" if (key+1)%int(F/D)==0 and key!=0 else \" \" )"
   ]
  },
  {
   "cell_type": "code",
   "execution_count": 289,
   "metadata": {},
   "outputs": [
    {
     "name": "stdout",
     "output_type": "stream",
     "text": [
      "After applying 🔑 18 we get this 1432 from this 4321\n"
     ]
    }
   ],
   "source": [
    "def key(): return 18\n",
    "def filter(fill): return (L := [ L for i in limits() if (L:=link()[i]) not in fill ])[ int(key()*(D := depth(L))/fac(D))%D ]\n",
    "def res(array): print( \"After applying 🔑 {} we get this {} from this {}\".format( key(), array, link() ) )\n",
    "if __name__ == \"__main__\": res( ''.join( token() ) )"
   ]
  },
  {
   "cell_type": "markdown",
   "metadata": {},
   "source": [
    "#### Now I'll try to implement encryption using prime numbers:"
   ]
  },
  {
   "cell_type": "code",
   "execution_count": 145,
   "metadata": {},
   "outputs": [
    {
     "name": "stdout",
     "output_type": "stream",
     "text": [
      "We get 🔑 (37F365D1798792C279C8A55CB1FD17C84F8DC5D249B3C7D2) by encrypting this data: <HELLO WORLD LETS BE FRIENDS AND DO GOOD>\n",
      "Decrypting 🔑, we get the following data: <       ABDDDDDEEEEFGHILLLLNNOOOOORRSSTW>\n"
     ]
    }
   ],
   "source": [
    "from os import popen\n",
    "\n",
    "def terminal(KEY, symbol, v): return popen(f'echo \\'{KEY}{symbol}{v}\\' | bc').read().strip()\n",
    "\n",
    "def prime():\n",
    "    keys = ['A','B','C','D','E','F','G','H','I','J','K','L','M','N','O','P','Q','R','S','T','U','V','W','X','Y','Z',' ']\n",
    "    type = {i:0 for i in set(keys)}\n",
    "    values = [2,3,5,7]\n",
    "    d = 1\n",
    "    while len(values) < len(keys): [ [ (values.append(num) if num not in values and [num%p==0 for p in values].count(True)==0 else None) for num in [(10*d)+1,(10*d)+3,(10*d)+7,(10*d)+9] ] ] ; d+=1\n",
    "    for k,v in zip(keys,values[0:len(keys)]): type[k]+=v\n",
    "    return type\n",
    "\n",
    "def scrambler(enContent, dict): \n",
    "    KEY = 1\n",
    "    reqDict = {}\n",
    "    for k in enContent: reqDict[k] = { 'ident':dict[k], 'score':1 if k not in reqDict else reqDict[k]['score']+1 }\n",
    "    for v in list(reqDict.values()): KEY *= v['ident']**v['score']\n",
    "    KEY = hex(KEY)[2:].upper()\n",
    "    return KEY\n",
    "\n",
    "def decoder(dict, KEY):\n",
    "    deContent = ''\n",
    "    for k,v in dict.items():\n",
    "        while True:\n",
    "            if terminal(KEY, '%', v) == '0':\n",
    "                deContent += k\n",
    "                KEY = terminal(KEY, '/', v)\n",
    "            if terminal(KEY, '%', v) != '0': break\n",
    "    \n",
    "    return ''.join(sorted(deContent))\n",
    "\n",
    "if __name__ == \"__main__\":\n",
    "  \n",
    "    dict = prime()\n",
    "    enContent = 'HELLO WORLD LETS BE FRIENDS AND DO GOOD'\n",
    "    KEY = scrambler(enContent, dict)\n",
    "\n",
    "    deContent = decoder(dict, int(KEY, 16))\n",
    "    print( f'We get 🔑 ({KEY}) by encrypting this data: <{enContent}>' )\n",
    "    print( f'Decrypting 🔑, we get the following data: <{deContent}>' )"
   ]
  },
  {
   "cell_type": "markdown",
   "metadata": {},
   "source": [
    "## 🤩 Own development, in the future I'll release a pip package. \n",
    "### This fragment allows U to translate numbers from the decimal number system to any other, \n",
    "### from the bit system to the thirty-six system, \n",
    "### but U can increase the number of characters and there will be more possibilities."
   ]
  },
  {
   "cell_type": "code",
   "execution_count": 284,
   "metadata": {},
   "outputs": [
    {
     "name": "stdout",
     "output_type": "stream",
     "text": [
      "10000\n"
     ]
    }
   ],
   "source": [
    "def algorism(dec, sys):\n",
    "    sign = ['0', '1', '2', '3', '4', '5', '6', '7', '8', '9', 'A', 'B', 'C', 'D', 'E', 'F', 'G', 'H', 'I', 'J', 'K', 'L', 'M', 'N', 'O', 'P', 'Q', 'R', 'S', 'T', 'U', 'V', 'W', 'X', 'Y', 'Z']\n",
    "    if sys > len(sign): return print('ERROR: The \\'algorism\\' function doesn\\'t accept a second parameter greater than 36.')\n",
    "    def logic(dec): return ''.join([sign[(dec//(sys**div))%sys] for div in range(5*len(str(dec)),-1,-1)])\n",
    "    def removeExtraZero(out):\n",
    "        for k in out:\n",
    "            if k=='0': out= out.replace('0','',1)\n",
    "            else: break\n",
    "        return out if out !='' else '0'\n",
    "    return removeExtraZero(logic(dec))\n",
    "\n",
    "if __name__==\"__main__\": print(algorism(sys=16,dec=65536)) # SYS from 2 to 36"
   ]
  },
  {
   "cell_type": "code",
   "execution_count": 286,
   "metadata": {},
   "outputs": [
    {
     "name": "stdout",
     "output_type": "stream",
     "text": [
      "1111100111\n"
     ]
    }
   ],
   "source": [
    "if __name__==\"__main__\": print(algorism(sys=2,dec=999)) # SYS from 2 to 36"
   ]
  },
  {
   "cell_type": "code",
   "execution_count": 241,
   "metadata": {},
   "outputs": [
    {
     "name": "stdout",
     "output_type": "stream",
     "text": [
      "0:0 2285:8ED 4570:11DA 6855:1AC7 9140:23B4 11425:2CA1 13710:358E 15995:3E7B 18280:4768 20565:5055 22850:5942 25135:622F 27420:6B1C 29705:7409 31990:7CF6 34275:85E3 36560:8ED0 38845:97BD 41130:A0AA 43415:A997 45700:B284 47985:BB71 50270:C45E 52555:CD4B 54840:D638 57125:DF25 59410:E812 61695:F0FF 63980:F9EC "
     ]
    }
   ],
   "source": [
    "from random import randint\n",
    "for n in range(0, 65536, randint(1000,10000)):\n",
    "    print(f'{n}:' + algorism(n,16), end=' ')"
   ]
  },
  {
   "cell_type": "markdown",
   "metadata": {},
   "source": [
    "## 💡 <span style=\"color:Gold\">Now we need to link the two programs to get the expected result!</span>"
   ]
  },
  {
   "cell_type": "markdown",
   "metadata": {},
   "source": [
    "# ☞ <span style=\"color:DeepPink\">To be continued...</span>"
   ]
  }
 ],
 "metadata": {
  "kernelspec": {
   "display_name": "Python 3.9.12 ('base')",
   "language": "python",
   "name": "python3"
  },
  "language_info": {
   "codemirror_mode": {
    "name": "ipython",
    "version": 3
   },
   "file_extension": ".py",
   "mimetype": "text/x-python",
   "name": "python",
   "nbconvert_exporter": "python",
   "pygments_lexer": "ipython3",
   "version": "3.9.13"
  },
  "orig_nbformat": 4,
  "vscode": {
   "interpreter": {
    "hash": "5f23284fad75d58360d212629b595dfe6fd02dbd8325e77387b1e5cbaad4e030"
   }
  }
 },
 "nbformat": 4,
 "nbformat_minor": 2
}
