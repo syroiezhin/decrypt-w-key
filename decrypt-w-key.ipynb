{
 "cells": [
  {
   "cell_type": "markdown",
   "metadata": {},
   "source": [
    "        __  ______ _       ________  __        _ \n",
    "       / / / / __ \\ |     / / __ \\ \\/ /  _    | |\n",
    "      / /_/ / / / / | /| / / / / /\\  /  (_)   / /\n",
    "     / __  / /_/ /| |/ |/ / /_/ / / /  _     / / \n",
    "    /_/ /_/\\____/ |__/|__/_____/ /_/  (_)  _/_/  \n",
    "                                          /_/    \n",
    "                                                      \n",
    "               5168 7450 1701 5535     \n",
    "\n",
    "                 author = Valerij Syroiezhin\n",
    "               telegram = @NEU3RON\n",
    "                  email = v.syroiezhin@gmail.com\n",
    "                    url = https://github.com/syroiezhin"
   ]
  },
  {
   "cell_type": "markdown",
   "metadata": {},
   "source": [
    "### ⚠️ <span style=\"color:DeepPink\">If for some reason U are interested in this project:</span>\n",
    "### <span style=\"color:Coral\">I ask U to respect my copyrights, respect my work,</span>\n",
    "### <span style=\"color:Coral\">and don't steal other people's work, and also don't appropriate other people's merits!</span>\n",
    "### <span style=\"color:Goldenrod\">If U need to use this resource in UR work, please indicate,</span>\n",
    "### <span style=\"color:Goldenrod\">citing the source, and also let me know that my material was useful to U.</span>\n",
    "\n",
    "## ❗️❗️❗️<span style=\"color:FireBrick\">APPRECIATE OTHER PEOPLE'S INVESTMENT IN UR DEVELOPMENT</span>❗️❗️❗️"
   ]
  },
  {
   "cell_type": "markdown",
   "metadata": {},
   "source": [
    "#### First I implemented the **facterial**, which will be needed later:"
   ]
  },
  {
   "cell_type": "code",
   "execution_count": 1,
   "metadata": {},
   "outputs": [
    {
     "data": {
      "text/plain": [
       "8683317618811886495518194401280000000"
      ]
     },
     "execution_count": 1,
     "metadata": {},
     "output_type": "execute_result"
    }
   ],
   "source": [
    "def fac(n): return 1 if n == 0 else fac(n-1) * n\n",
    "def link(): return list('абвгдеёжзийклмнопрстуфхцчшщъыьэюя')\n",
    "def depth(): return len(link())\n",
    "\n",
    "fac(depth())"
   ]
  },
  {
   "cell_type": "markdown",
   "metadata": {},
   "source": [
    "#### ☝🏼 I deliberately broke this into three functions, \n",
    "#### because I still need to access the original character set; \n",
    "#### and I also didn't want to write the ```LEN()``` function thrice in the ```FAC()```."
   ]
  },
  {
   "cell_type": "markdown",
   "metadata": {},
   "source": [
    "#### 🤔 Since I intend to solve a problem of unprecedented complexity, \n",
    "#### so that it's clear what result I intend to get, \n",
    "#### I'll point out an example with a combination of three characters:"
   ]
  },
  {
   "cell_type": "markdown",
   "metadata": {},
   "source": [
    "# Ternary number system:"
   ]
  },
  {
   "cell_type": "code",
   "execution_count": 5,
   "metadata": {},
   "outputs": [
    {
     "name": "stdout",
     "output_type": "stream",
     "text": [
      "321\n",
      "312\n",
      "231\n",
      "213\n",
      "132\n",
      "123\n"
     ]
    }
   ],
   "source": [
    "def fac(n):   return 1 if n == 0 else fac(n-1) * n\n",
    "def link():   return '321'\n",
    "def depth():  return len(link())\n",
    "def last_pair(key, f): LP = ''.join([ link()[i] for i in range(depth()) if link()[i] != f ]) ; return LP if key%2 !=0 else LP[::-1]\n",
    "\n",
    "def token(key): \n",
    "    f = link()[int( key/2 - 0.5 )]\n",
    "    LP = last_pair(key, str(f))\n",
    "    return ''.join( str(i) for i in [ f , LP ] )\n",
    "\n",
    "for key in range( 1, fac(depth())+1 ): print( token(key) )"
   ]
  },
  {
   "cell_type": "markdown",
   "metadata": {},
   "source": [
    "### 👨🏻‍🏫 In this example I want to show how U can get the first character of each combination.\n",
    "### So that it doesN't take up much space in the terminal, \n",
    "### I used the function ```end=\"\\n\"``` in the print every time the first number changes."
   ]
  },
  {
   "cell_type": "markdown",
   "metadata": {},
   "source": [
    "### 🤫 The function that was written that determines \n",
    "### when the value of the first character should be set \n",
    "### will be used in development for other characters, \n",
    "### but with some modifications."
   ]
  },
  {
   "cell_type": "code",
   "execution_count": 200,
   "metadata": {},
   "outputs": [
    {
     "name": "stdout",
     "output_type": "stream",
     "text": [
      "1 1 1 1 1 1\n",
      "2 2 2 2 2 2\n",
      "3 3 3 3 3 3\n",
      "4 4 4 4 4 4\n"
     ]
    }
   ],
   "source": [
    "def link():   return '1234'\n",
    "def fac(n):   return 1 if n == 0 else fac(n-1) * n\n",
    "def depth():  return len(link())\n",
    "def token(key): return ''.join( str(i) for i in link()[int(key*depth()/fac(depth()))] )\n",
    "for key in range( 0, fac(depth()) ): print ( token(key) , end=\"\\n\" if (key+1) % int(fac(depth())/depth()) ==0 and key!=0 else \" \" )"
   ]
  },
  {
   "cell_type": "markdown",
   "metadata": {},
   "source": [
    "### 🥳 We get the pre-final release of a program that is capable of encoding data, U only need to know the key!"
   ]
  },
  {
   "cell_type": "code",
   "execution_count": 6,
   "metadata": {},
   "outputs": [
    {
     "name": "stdout",
     "output_type": "stream",
     "text": [
      "12345 12354 12435 12453 12534 12543 13245 13254 13425 13452 13524 13542 14235 14253 14325 14352 14523 14532 15234 15243 15324 15342 15423 15432\n",
      "21345 21354 21435 21453 21534 21543 23145 23154 23415 23451 23514 23541 24135 24153 24315 24351 24513 24531 25134 25143 25314 25341 25413 25431\n",
      "31245 31254 31425 31452 31524 31542 32145 32154 32415 32451 32514 32541 34125 34152 34215 34251 34512 34521 35124 35142 35214 35241 35412 35421\n",
      "41235 41253 41325 41352 41523 41532 42135 42153 42315 42351 42513 42531 43125 43152 43215 43251 43512 43521 45123 45132 45213 45231 45312 45321\n",
      "51234 51243 51324 51342 51423 51432 52134 52143 52314 52341 52413 52431 53124 53142 53214 53241 53412 53421 54123 54132 54213 54231 54312 54321\n"
     ]
    }
   ],
   "source": [
    "def link():   return '12345'\n",
    "def depth(l=link()):  return len(l)\n",
    "def limits(d=depth()): return range(d)\n",
    "def fac(n):   return 1 if n == 0 else fac(n-1) * n\n",
    "def filter(fill=[]): \n",
    "    L = [ L for i in limits() if (L:=link()[i]) not in fill ]\n",
    "    D = depth(L) ; \n",
    "    return L[ int(key*D/fac(D))%D ]\n",
    "\n",
    "def token(key):\n",
    "    ARRAY = []\n",
    "    for _ in limits(): ARRAY.append( filter( ARRAY ) )\n",
    "    return ''.join( str(i) for i in ARRAY )\n",
    "\n",
    "for key in limits(F:=fac(D:=depth())): print ( token(key) , end=\"\\n\" if (key+1) % int(F/D) ==0 and key!=0 else \" \" )"
   ]
  },
  {
   "cell_type": "code",
   "execution_count": 18,
   "metadata": {},
   "outputs": [
    {
     "name": "stdout",
     "output_type": "stream",
     "text": [
      "4321 4312 4231 4213 4132 4123\n",
      "3421 3412 3241 3214 3142 3124\n",
      "2431 2413 2341 2314 2143 2134\n",
      "1432 1423 1342 1324 1243 1234\n"
     ]
    }
   ],
   "source": [
    "def link():            return '4321'\n",
    "def depth(l=link()):   return len(l)\n",
    "def limits(d=depth()): return range(d)\n",
    "def fac(n):            return 1 if n == 0 else fac(n-1) * n\n",
    "def filter(fill=[]):   return (L := [ L for i in limits() if (L:=link()[i]) not in fill ])[ int(key*(D:=depth(L))/fac(D))%D ]\n",
    "def token(key,ARRAY): [ ARRAY.append(filter(ARRAY)) for _ in limits() ] ; return ARRAY\n",
    "for key in limits(F:=fac(D:=depth())): print ( ''.join( str(i) for i in token(key,[]) ) , end=\"\\n\" if (key+1)%int(F/D)==0 and key!=0 else \" \" )"
   ]
  },
  {
   "cell_type": "code",
   "execution_count": 46,
   "metadata": {},
   "outputs": [
    {
     "name": "stdout",
     "output_type": "stream",
     "text": [
      "Применив 🔑 16, мы из 4321 получили 2143\n"
     ]
    }
   ],
   "source": [
    "def key():             return 16\n",
    "def link():            return '4321'\n",
    "def depth(l=link()):   return len(l)\n",
    "def limits(d=depth()): return range(d)\n",
    "def fac(n):            return 1 if n == 0 else fac(n-1) * n\n",
    "def filter(fill=[]):   return (L := [ L for i in limits() if (L:=link()[i]) not in fill ])[ int(key()*(D:=depth(L))/fac(D))%D ]\n",
    "def token(ARRAY): [ ARRAY.append(filter(ARRAY)) for _ in limits() ] ; return ARRAY\n",
    "def res(array): print(\"Применив 🔑 {}, мы из {} получили {}\".format(key(), ''.join(link()), ''.join(array)))\n",
    "\n",
    "if __name__ == \"__main__\": res( token([]) )"
   ]
  },
  {
   "cell_type": "code",
   "execution_count": 143,
   "metadata": {},
   "outputs": [
    {
     "name": "stdout",
     "output_type": "stream",
     "text": [
      "KEY : 2FFC57B8B\n",
      "12881066891 : 83\n",
      "155193577 : 61\n",
      "2544157 : 7\n",
      "363451 : 47\n",
      "7733 : 37\n",
      "209 : 19\n",
      "11 : 11\n"
     ]
    }
   ],
   "source": [
    "from numpy import prod\n",
    "\n",
    "def prime(key): \n",
    "    d = 1\n",
    "    value=[2,3,5,7]\n",
    "    while len(value) < len(key):\n",
    "        [ [ (value.append(num) if num not in value and [num%p==0 for p in value].count(True)==0 else None) for num in [(10*d)+1,(10*d)+3,(10*d)+7,(10*d)+9] ] ]\n",
    "        d+=1\n",
    "    return value\n",
    "\n",
    "def joint(key,value):\n",
    "    type = {i:0 for i in set(key)}\n",
    "    for k,v in zip(key,value): type[k]+=v\n",
    "    return type\n",
    "\n",
    "def now_joint(text,dict):\n",
    "    now_dict = {}\n",
    "    for char in text: now_dict[char] = dict[char] if char in dict else 1\n",
    "    return now_dict\n",
    "\n",
    "if __name__ == \"__main__\":\n",
    "\n",
    "    text = 'HELLOWORD'\n",
    "\n",
    "    key = ['A','B','C','D','E','F','G','H','I','J','K','L','M','N','O','P','Q','R','S','T','U','V','W','X','Y','Z']\n",
    "    value = prime(key)[0:len(key)]\n",
    "    dict = joint(key,value)\n",
    "    now_dict = now_joint(text,dict)\n",
    "    prd = prod(list(now_dict.values()))\n",
    "    \n",
    "    print( \"KEY :\" , hex(prd)[2:].upper() )\n",
    "\n",
    "    for d in dict.keys(): \n",
    "        if d in now_dict: \n",
    "            print(int(prd), \":\", now_dict[d])\n",
    "            prd = prd/now_dict[d]\n",
    "\n"
   ]
  },
  {
   "cell_type": "markdown",
   "metadata": {},
   "source": [
    "## 💡 <span style=\"color:Gold\">To get the initial result, we will need to know three passwords: mail | mobile | password</span>"
   ]
  },
  {
   "cell_type": "markdown",
   "metadata": {},
   "source": [
    "# ☞ <span style=\"color:DeepPink\">To be continued...</span>"
   ]
  }
 ],
 "metadata": {
  "kernelspec": {
   "display_name": "Python 3.9.12 ('base')",
   "language": "python",
   "name": "python3"
  },
  "language_info": {
   "codemirror_mode": {
    "name": "ipython",
    "version": 3
   },
   "file_extension": ".py",
   "mimetype": "text/x-python",
   "name": "python",
   "nbconvert_exporter": "python",
   "pygments_lexer": "ipython3",
   "version": "3.9.12"
  },
  "orig_nbformat": 4,
  "vscode": {
   "interpreter": {
    "hash": "5f23284fad75d58360d212629b595dfe6fd02dbd8325e77387b1e5cbaad4e030"
   }
  }
 },
 "nbformat": 4,
 "nbformat_minor": 2
}
