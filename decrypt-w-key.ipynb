{
 "cells": [
  {
   "cell_type": "markdown",
   "metadata": {},
   "source": [
    "        __  ______ _       ________  __        _ \n",
    "       / / / / __ \\ |     / / __ \\ \\/ /  _    | |\n",
    "      / /_/ / / / / | /| / / / / /\\  /  (_)   / /\n",
    "     / __  / /_/ /| |/ |/ / /_/ / / /  _     / / \n",
    "    /_/ /_/\\____/ |__/|__/_____/ /_/  (_)  _/_/  \n",
    "                                          /_/    \n",
    "                                                      \n",
    "               5168 7450 1701 5535     \n",
    "\n",
    "                 author = Valerij Syroiezhin\n",
    "               telegram = @NEU3RON\n",
    "                  email = v.syroiezhin@gmail.com\n",
    "                    url = https://github.com/syroiezhin"
   ]
  },
  {
   "cell_type": "markdown",
   "metadata": {},
   "source": [
    "### ⚠️ <span style=\"color:DeepPink\">If for some reason U are interested in this project:</span>\n",
    "### <span style=\"color:Coral\">I ask U to respect my copyrights, respect my work,</span>\n",
    "### <span style=\"color:Coral\">and don't steal other people's work, and also don't appropriate other people's merits!</span>\n",
    "### <span style=\"color:Goldenrod\">If U need to use this resource in UR work, please indicate,</span>\n",
    "### <span style=\"color:Goldenrod\">citing the source, and also let me know that my material was useful to U.</span>\n",
    "\n",
    "## ❗️❗️❗️<span style=\"color:FireBrick\">APPRECIATE OTHER PEOPLE'S INVESTMENT IN UR DEVELOPMENT</span>❗️❗️❗️"
   ]
  },
  {
   "cell_type": "markdown",
   "metadata": {},
   "source": [
    "#### First I implemented the **facterial**, which will be needed later:"
   ]
  },
  {
   "cell_type": "code",
   "execution_count": 1,
   "metadata": {},
   "outputs": [
    {
     "data": {
      "text/plain": [
       "8683317618811886495518194401280000000"
      ]
     },
     "execution_count": 1,
     "metadata": {},
     "output_type": "execute_result"
    }
   ],
   "source": [
    "def fac(n): return 1 if n == 0 else fac(n-1) * n\n",
    "def link(): return list('абвгдеёжзийклмнопрстуфхцчшщъыьэюя')\n",
    "def depth(): return len(link())\n",
    "\n",
    "if __name__ == \"__main__\": fac(depth())"
   ]
  },
  {
   "cell_type": "markdown",
   "metadata": {},
   "source": [
    "#### ☝🏼 I deliberately broke this into three functions, \n",
    "#### because I still need to access the original character set; \n",
    "#### and I also didn't want to write the ```LEN()``` function thrice in the ```FAC()```."
   ]
  },
  {
   "cell_type": "markdown",
   "metadata": {},
   "source": [
    "#### 🤔 Since I intend to solve a problem of unprecedented complexity, \n",
    "#### so that it's clear what result I intend to get, \n",
    "#### I'll point out an example with a combination of three characters:"
   ]
  },
  {
   "cell_type": "markdown",
   "metadata": {},
   "source": [
    "# Ternary number system:"
   ]
  },
  {
   "cell_type": "code",
   "execution_count": 5,
   "metadata": {},
   "outputs": [
    {
     "name": "stdout",
     "output_type": "stream",
     "text": [
      "321\n",
      "312\n",
      "231\n",
      "213\n",
      "132\n",
      "123\n"
     ]
    }
   ],
   "source": [
    "def fac(n):   return 1 if n == 0 else fac(n-1) * n\n",
    "def link():   return '321'\n",
    "def depth():  return len(link())\n",
    "def last_pair(key, f): LP = ''.join([ link()[i] for i in range(depth()) if link()[i] != f ]) ; return LP if key%2 !=0 else LP[::-1]\n",
    "\n",
    "def token(key): \n",
    "    f = link()[int( key/2 - 0.5 )]\n",
    "    LP = last_pair(key, str(f))\n",
    "    return ''.join( str(i) for i in [ f , LP ] )\n",
    "\n",
    "if __name__ == \"__main__\": \n",
    "    for key in range( 1, fac(depth())+1 ): print( token(key) )"
   ]
  },
  {
   "cell_type": "markdown",
   "metadata": {},
   "source": [
    "### 👨🏻‍🏫 In this example I want to show how U can get the first character of each combination.\n",
    "### So that it doesN't take up much space in the terminal, \n",
    "### I used the function ```end=\"\\n\"``` in the print every time the first number changes."
   ]
  },
  {
   "cell_type": "markdown",
   "metadata": {},
   "source": [
    "### 🤫 The function that was written that determines \n",
    "### when the value of the first character should be set \n",
    "### will be used in development for other characters, \n",
    "### but with some modifications."
   ]
  },
  {
   "cell_type": "code",
   "execution_count": 48,
   "metadata": {},
   "outputs": [
    {
     "name": "stdout",
     "output_type": "stream",
     "text": [
      "1 1\n",
      "2 2\n",
      "3 3\n"
     ]
    }
   ],
   "source": [
    "def link():   return '123'\n",
    "def fac(n):   return 1 if n == 0 else fac(n-1) * n\n",
    "def depth():  return len(link())\n",
    "def token(key): return ''.join( str(i) for i in link()[int(key*depth()/fac(depth()))] )\n",
    "\n",
    "if __name__ == \"__main__\":\n",
    "    for key in range( 0, fac(depth()) ): print ( token(key) , end=\"\\n\" if (key+1) % int(fac(depth())/depth()) ==0 and key!=0 else \" \" )"
   ]
  },
  {
   "cell_type": "markdown",
   "metadata": {},
   "source": [
    "### 🥳 We get the pre-final release of a program that is capable of encoding data, U only need to know the key!"
   ]
  },
  {
   "cell_type": "code",
   "execution_count": 49,
   "metadata": {},
   "outputs": [
    {
     "name": "stdout",
     "output_type": "stream",
     "text": [
      "123 132\n",
      "213 231\n",
      "312 321\n"
     ]
    }
   ],
   "source": [
    "def link():   return '123'\n",
    "def depth(l=link()):  return len(l)\n",
    "def limits(d=depth()): return range(d)\n",
    "def fac(n):   return 1 if n == 0 else fac(n-1) * n\n",
    "def filter(fill=[]): \n",
    "    L = [ L for i in limits() if (L:=link()[i]) not in fill ]\n",
    "    D = depth(L) ; \n",
    "    return L[ int(key*D/fac(D))%D ]\n",
    "\n",
    "def token(key):\n",
    "    ARRAY = []\n",
    "    for _ in limits(): ARRAY.append( filter( ARRAY ) )\n",
    "    return ''.join( str(i) for i in ARRAY )\n",
    "\n",
    "if __name__ == \"__main__\":\n",
    "    for key in limits(F:=fac(D:=depth())): print ( token(key) , end=\"\\n\" if (key+1) % int(F/D) ==0 and key!=0 else \" \" )"
   ]
  },
  {
   "cell_type": "code",
   "execution_count": 45,
   "metadata": {},
   "outputs": [
    {
     "name": "stdout",
     "output_type": "stream",
     "text": [
      "4321 4312 4231 4213 4132 4123\n",
      "3421 3412 3241 3214 3142 3124\n",
      "2431 2413 2341 2314 2143 2134\n",
      "1432 1423 1342 1324 1243 1234\n"
     ]
    }
   ],
   "source": [
    "def link():            return '4321'\n",
    "def depth(l=link()):   return len(l)\n",
    "def limits(d=depth()): return range(d)\n",
    "def fac(n):            return 1 if n == 0 else fac(n-1) * n\n",
    "def filter(fill=[]):   return (L := [ L for i in limits() if (L:=link()[i]) not in fill ])[ int(key*(D:=depth(L))/fac(D))%D ]\n",
    "def token(key,ARRAY): [ ARRAY.append(filter(ARRAY)) for _ in limits() ] ; return ARRAY\n",
    "\n",
    "if __name__ == \"__main__\":\n",
    "    for key in limits(F:=fac(D:=depth())): print ( ''.join( str(i) for i in token(key,[]) ) , end=\"\\n\" if (key+1)%int(F/D)==0 and key!=0 else \" \" )"
   ]
  },
  {
   "cell_type": "code",
   "execution_count": 46,
   "metadata": {},
   "outputs": [
    {
     "name": "stdout",
     "output_type": "stream",
     "text": [
      "Применив 🔑 16, мы из 4321 получили 2143\n"
     ]
    }
   ],
   "source": [
    "def key():             return 16\n",
    "def link():            return '4321'\n",
    "def depth(l=link()):   return len(l)\n",
    "def limits(d=depth()): return range(d)\n",
    "def fac(n):            return 1 if n == 0 else fac(n-1) * n\n",
    "def filter(fill=[]):   return (L := [ L for i in limits() if (L:=link()[i]) not in fill ])[ int(key()*(D:=depth(L))/fac(D))%D ]\n",
    "def token(ARRAY): [ ARRAY.append(filter(ARRAY)) for _ in limits() ] ; return ARRAY\n",
    "def res(array): print(\"Применив 🔑 {}, мы из {} получили {}\".format(key(), ''.join(link()), ''.join(array)))\n",
    "\n",
    "if __name__ == \"__main__\": res( token([]) )"
   ]
  },
  {
   "cell_type": "code",
   "execution_count": 54,
   "metadata": {},
   "outputs": [
    {
     "name": "stdout",
     "output_type": "stream",
     "text": [
      "HELLOWORD #KEY: 2FFC57B8B\n",
      "{'W': 83, 'E': 11, 'R': 61, 'L': 37, 'O': 47, 'D': 7, 'H': 19}\n"
     ]
    }
   ],
   "source": [
    "def prime():\n",
    "    keys = ['A','B','C','D','E','F','G','H','I','J','K','L','M','N','O','P','Q','R','S','T','U','V','W','X','Y','Z']\n",
    "    type = {i:0 for i in set(keys)}\n",
    "    values = [2,3,5,7]\n",
    "    d = 1\n",
    "    while len(values) < len(keys): [ [ (values.append(num) if num not in values and [num%p==0 for p in values].count(True)==0 else None) for num in [(10*d)+1,(10*d)+3,(10*d)+7,(10*d)+9] ] ] ; d+=1\n",
    "    for k,v in zip(keys,values[0:len(keys)]): type[k]+=v\n",
    "    return type\n",
    "\n",
    "def scrambler(content, dict): \n",
    "    KEY = 1\n",
    "    reqDict = {}\n",
    "    for char in content: reqDict[char] = dict[char] if char in dict else 1\n",
    "    for v in list(reqDict.values()): KEY *= v\n",
    "    KEY = hex(KEY)[2:].upper()\n",
    "    return KEY\n",
    "\n",
    "def decoder(dict, KEY):\n",
    "    deKeys = {}\n",
    "    for k,v in dict.items(): \n",
    "        if KEY%v == 0:\n",
    "            deKeys[k]=v\n",
    "            KEY = KEY/v\n",
    "    return deKeys\n",
    "\n",
    "if __name__ == \"__main__\":\n",
    "  \n",
    "    dict = prime()\n",
    "    content = 'HELLOWORD'\n",
    "    KEY = scrambler(content, dict)\n",
    "\n",
    "    deKeys = decoder(dict, int(KEY, 16))\n",
    "    print( content, \"#KEY:\" , KEY )\n",
    "    print(deKeys)"
   ]
  },
  {
   "cell_type": "markdown",
   "metadata": {},
   "source": [
    "## 💡 <span style=\"color:Gold\">To get the initial result, we will need to know three passwords: mail | mobile | password</span>"
   ]
  },
  {
   "cell_type": "markdown",
   "metadata": {},
   "source": [
    "# ☞ <span style=\"color:DeepPink\">To be continued...</span>"
   ]
  }
 ],
 "metadata": {
  "kernelspec": {
   "display_name": "Python 3.9.12 ('base')",
   "language": "python",
   "name": "python3"
  },
  "language_info": {
   "codemirror_mode": {
    "name": "ipython",
    "version": 3
   },
   "file_extension": ".py",
   "mimetype": "text/x-python",
   "name": "python",
   "nbconvert_exporter": "python",
   "pygments_lexer": "ipython3",
   "version": "3.9.12"
  },
  "orig_nbformat": 4,
  "vscode": {
   "interpreter": {
    "hash": "5f23284fad75d58360d212629b595dfe6fd02dbd8325e77387b1e5cbaad4e030"
   }
  }
 },
 "nbformat": 4,
 "nbformat_minor": 2
}
