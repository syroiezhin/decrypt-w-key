{
 "cells": [
  {
   "cell_type": "markdown",
   "metadata": {},
   "source": [
    "        __  ______ _       ________  __        _ \n",
    "       / / / / __ \\ |     / / __ \\ \\/ /  _    | |\n",
    "      / /_/ / / / / | /| / / / / /\\  /  (_)   / /\n",
    "     / __  / /_/ /| |/ |/ / /_/ / / /  _     / / \n",
    "    /_/ /_/\\____/ |__/|__/_____/ /_/  (_)  _/_/  \n",
    "                                          /_/    \n",
    "                                                      \n",
    "               5168 7450 1701 5535     \n",
    "\n",
    "                 author = Valerij Syroiezhin\n",
    "               telegram = @NEU3RON\n",
    "                  email = v.syroiezhin@gmail.com\n",
    "                    url = https://github.com/syroiezhin"
   ]
  },
  {
   "cell_type": "markdown",
   "metadata": {},
   "source": [
    "### ⚠️ <span style=\"color:DeepPink\">If for some reason U are interested in this project:</span>\n",
    "### <span style=\"color:Coral\">I ask U to respect my copyrights, respect my work,</span>\n",
    "### <span style=\"color:Coral\">and don't steal other people's work, and also don't appropriate other people's merits!</span>\n",
    "### <span style=\"color:Goldenrod\">If U need to use this resource in UR work, please indicate,</span>\n",
    "### <span style=\"color:Goldenrod\">citing the source, and also let me know that my material was useful to U.</span>\n",
    "\n",
    "## ❗️❗️❗️<span style=\"color:FireBrick\">APPRECIATE OTHER PEOPLE'S INVESTMENT IN UR DEVELOPMENT</span>❗️❗️❗️"
   ]
  },
  {
   "cell_type": "markdown",
   "metadata": {},
   "source": [
    "### 💪🏻 I implement the output of all possible permutations of characters:"
   ]
  },
  {
   "cell_type": "code",
   "execution_count": 1,
   "metadata": {},
   "outputs": [
    {
     "name": "stdout",
     "output_type": "stream",
     "text": [
      "24 permutation combinations 4 characters \n",
      "After applying 🔑 11 we get this BCBA from this ABBC\n",
      "ABBC ABCB ABBC ABCB ACBB ACBB     BABC BACB BBAC BBCA BCAB BCBA     BABC BACB BBAC BBCA BCAB BCBA     CABB CABB CBAB CBBA CBAB CBBA     "
     ]
    }
   ],
   "source": [
    "def fac(n): return 1 if n == 0 else fac(n-1) * n\n",
    "def filter(fill,ASKEY,cipher): \n",
    "    if ( f := ''.join(fill[-1:]) ) in cipher and cipher[f] != 0: cipher[f]=cipher[f]-1\n",
    "    cipher = ''.join([ k*v for k,v in cipher.items() ])\n",
    "    return cipher[ int( int(float(ASKEY))*(D := len(cipher))/fac(D) )%D ]\n",
    "\n",
    "def token(ASKEY,cipher): \n",
    "    fill=[] \n",
    "    ciph = dict(sorted({k:cipher.count(k) for k in set(cipher)}.items())) \n",
    "    [ fill.append( filter(fill,ASKEY,ciph) ) for _ in cipher ] \n",
    "    return ''.join(fill)\n",
    "\n",
    "def start(): \n",
    "    cipher = 'ABBC'\n",
    "    print( f'{fac(len(cipher))} permutation combinations {len(cipher)} characters', \"\\nAfter applying 🔑 {} we get this {} from this {}\".format( KEY:=11,  token(KEY,cipher), cipher ) )\n",
    "    for key in range(F:=fac(dps:=len(cipher))): print ( token(key,cipher) , end=\"     \" if (key+1)%int(F/dps)==0 and key!=0 else \" \" )\n",
    "\n",
    "if __name__ == \"__main__\": start()"
   ]
  },
  {
   "cell_type": "markdown",
   "metadata": {},
   "source": [
    "### 🤹🏻 Search for a key to a specific combination of characters:"
   ]
  },
  {
   "cell_type": "code",
   "execution_count": 2,
   "metadata": {},
   "outputs": [
    {
     "name": "stdout",
     "output_type": "stream",
     "text": [
      "# 0   ABBC | BCBA  @  0\n",
      "# 1   BABC | BCBA  @  6.0\n",
      "# 2   BCAB | BCBA  @  10.0\n",
      "# 3   BCBA | BCBA  @  11.0\n",
      "Search 🔑 11.0 for number BCBA\n"
     ]
    }
   ],
   "source": [
    "def terminal(SCKEY, symbol, v): \n",
    "    from os import popen\n",
    "    return popen(f'echo \\'{SCKEY}{symbol}{v}\\' | bc').read().strip()\n",
    "\n",
    "def assort(cipher):\n",
    "    ASKEY = 0\n",
    "    abc = ''.join(sorted(cipher))\n",
    "    def check(cipher,ASKEY,abc,i): return terminal(ASKEY, '+', ((abc.index(cipher[i],i)-i)*fac(dpf:=len(cipher)-i)/dpf) )\n",
    "    for i in range(len(cipher)): \n",
    "        print( '#', i, ' ', abc, \"|\", cipher, ' @ ', ASKEY )\n",
    "        ASKEY = check(cipher,ASKEY,abc,i)\n",
    "        abc = token(int(float(ASKEY)),cipher)\n",
    "    return ASKEY\n",
    "\n",
    "if __name__ == \"__main__\": \n",
    "    cipher = 'BCBA'\n",
    "    ASKEY= assort(cipher)\n",
    "    print(f'Search 🔑 {ASKEY} for number {cipher}')"
   ]
  },
  {
   "cell_type": "markdown",
   "metadata": {},
   "source": [
    "### 🤩 Own development, in the future I'll release a pip package. \n",
    "#### This fragment allows U to translate numbers from the decimal number system to any other ( bin, oct, hex, etc. up to 36 )."
   ]
  },
  {
   "cell_type": "code",
   "execution_count": 3,
   "metadata": {},
   "outputs": [
    {
     "name": "stdout",
     "output_type": "stream",
     "text": [
      "65536 in 36-ary:  1EKG\n",
      "65536 in hex:  10000\n",
      "65536 in oct:  200000\n",
      "65536 in bin:  10000000000000000\n"
     ]
    }
   ],
   "source": [
    "def algorism(dec, sys):\n",
    "    sign = ['0', '1', '2', '3', '4', '5', '6', '7', '8', '9', 'A', 'B', 'C', 'D', 'E', 'F', 'G', 'H', 'I', 'J', 'K', 'L', 'M', 'N', 'O', 'P', 'Q', 'R', 'S', 'T', 'U', 'V', 'W', 'X', 'Y', 'Z']\n",
    "    if sys > len(sign): return print('ERROR: The \\'algorism\\' function doesn\\'t accept a second parameter greater than 36.')\n",
    "    def logic(dec): return ''.join([sign[(dec//(sys**div))%sys] for div in range(5*len(str(dec)),-1,-1)])\n",
    "    def removeExtraZero(out):\n",
    "        for k in out:\n",
    "            if k=='0': out= out.replace('0','',1)\n",
    "            else: break\n",
    "        return out if out !='' else '0'\n",
    "    return removeExtraZero(logic(dec))\n",
    "\n",
    "if __name__==\"__main__\":\n",
    "    dec = 65536\n",
    "    print(f'{dec} in 36-ary: ', algorism(sys=36, dec=dec))\n",
    "    print(f'{dec} in hex: ',    algorism(sys=16, dec=dec))\n",
    "    print(f'{dec} in oct: ',    algorism(sys=8,  dec=dec))\n",
    "    print(f'{dec} in bin: ',    algorism(sys=2,  dec=dec))"
   ]
  },
  {
   "cell_type": "markdown",
   "metadata": {},
   "source": [
    "### 🧠 Now I'll try to implement encryption using prime numbers:"
   ]
  },
  {
   "cell_type": "code",
   "execution_count": 8,
   "metadata": {},
   "outputs": [
    {
     "name": "stdout",
     "output_type": "stream",
     "text": [
      "# 0     ADDEEGHORSTUWY | HOWDY DEAR GUEST  @  0\n",
      "# 1   H  ADDEEGORSTUWY | HOWDY DEAR GUEST  @  10461394944000.0\n",
      "# 2   HO  ADDEEGRSTUWY | HOWDY DEAR GUEST  @  11158821273600.0\n",
      "# 3   HOW  ADDEEGRSTUY | HOWDY DEAR GUEST  @  11233545523200.0\n",
      "# 4   HOWD  ADEEGRSTUY | HOWDY DEAR GUEST  @  11234982528000.0\n",
      "# 5   HOWDY  ADEEGRSTU | HOWDY DEAR GUEST  @  11235421612800.0\n",
      "# 6   HOWDY  ADEEGRSTU | HOWDY DEAR GUEST  @  11235421612800.0\n",
      "# 7   HOWDY D AEEGRSTU | HOWDY DEAR GUEST  @  11235422338560.0\n",
      "# 8   HOWDY DE AEGRSTU | HOWDY DEAR GUEST  @  11235422419200.0\n",
      "# 9   HOWDY DEA EGRSTU | HOWDY DEAR GUEST  @  11235422424240.0\n",
      "# 10   HOWDY DEAR EGSTU | HOWDY DEAR GUEST  @  11235422426400.0\n",
      "# 11   HOWDY DEAR EGSTU | HOWDY DEAR GUEST  @  11235422426400.0\n",
      "# 12   HOWDY DEAR GESTU | HOWDY DEAR GUEST  @  11235422426424.0\n",
      "# 13   HOWDY DEAR GUEST | HOWDY DEAR GUEST  @  11235422426442.0\n",
      "# 14   HOWDY DEAR GUEST | HOWDY DEAR GUEST  @  11235422426442.0\n",
      "# 15   HOWDY DEAR GUEST | HOWDY DEAR GUEST  @  11235422426442.0\n",
      "We get 🔑 (1H1D7S7M46GWRGTQ) by encrypting this data: <HOWDY DEAR GUEST>\n",
      "Decrypting 🔑, we get the following data: <HOWDY DEAR GUEST>\n"
     ]
    }
   ],
   "source": [
    "def prime():\n",
    "    keys = ['A','B','C','D','E','F','G','H','I','J','K','L','M','N','O','P','Q','R','S','T','U','V','W','X','Y','Z',' ']\n",
    "    type = {i:0 for i in set(keys)}\n",
    "    values = [2,3,5,7]\n",
    "    d = 1\n",
    "    while len(values) < len(keys): [ [ (values.append(num) if num not in values and [num%p==0 for p in values].count(True)==0 else None) for num in [(10*d)+1,(10*d)+3,(10*d)+7,(10*d)+9] ] ] ; d+=1\n",
    "    for k,v in zip(keys,values[0:len(keys)]): type[k]+=v\n",
    "    return type\n",
    "\n",
    "def scrambler(enContent, dct): \n",
    "    SCKEY = 1\n",
    "    reqDict = {}\n",
    "    for k in enContent: reqDict[k] = { 'ident':dct[k], 'score':1 if k not in reqDict else reqDict[k]['score']+1 }\n",
    "    for v in list(reqDict.values()): SCKEY *= v['ident']**v['score']\n",
    "    return SCKEY\n",
    "\n",
    "def decoder(dct, SCKEY):\n",
    "    deContent = ''\n",
    "    for k,v in dct.items():\n",
    "        while True:\n",
    "            if terminal(SCKEY, '%', v) == '0':\n",
    "                deContent += k\n",
    "                SCKEY = terminal(SCKEY, '/', v)\n",
    "            if terminal(SCKEY, '%', v) != '0': break\n",
    "    return ''.join(sorted(deContent))\n",
    "\n",
    "if __name__ == \"__main__\":\n",
    "    P = prime()\n",
    "    enContent = 'HOWDY DEAR GUEST'\n",
    "    ASKEY = assort(enContent)\n",
    "    SCKEY = scrambler(enContent, P)\n",
    "    print( f'We get 🔑 ({algorism(sys=36, dec=SCKEY)}) by encrypting this data: <{enContent}>' )\n",
    "    deContent = token(ASKEY,decoder(P, SCKEY))\n",
    "    print( f'Decrypting 🔑, we get the following data: <{deContent}>' )"
   ]
  },
  {
   "cell_type": "markdown",
   "metadata": {},
   "source": [
    "# <p style=\"text-align: center;\"> <span style=\" text-align: center; color: FireBrick;\">THE END</span> </p>"
   ]
  }
 ],
 "metadata": {
  "kernelspec": {
   "display_name": "Python 3.9.12 ('base')",
   "language": "python",
   "name": "python3"
  },
  "language_info": {
   "codemirror_mode": {
    "name": "ipython",
    "version": 3
   },
   "file_extension": ".py",
   "mimetype": "text/x-python",
   "name": "python",
   "nbconvert_exporter": "python",
   "pygments_lexer": "ipython3",
   "version": "3.9.13"
  },
  "orig_nbformat": 4,
  "vscode": {
   "interpreter": {
    "hash": "5f23284fad75d58360d212629b595dfe6fd02dbd8325e77387b1e5cbaad4e030"
   }
  }
 },
 "nbformat": 4,
 "nbformat_minor": 2
}
